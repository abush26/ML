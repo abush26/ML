{
  "nbformat": 4,
  "nbformat_minor": 0,
  "metadata": {
    "colab": {
      "provenance": []
    },
    "kernelspec": {
      "name": "python3",
      "display_name": "Python 3"
    },
    "language_info": {
      "name": "python"
    }
  },
  "cells": [
    {
      "cell_type": "code",
      "execution_count": 1,
      "metadata": {
        "colab": {
          "base_uri": "https://localhost:8080/"
        },
        "id": "D7oKledKnzzB",
        "outputId": "3cd0b80d-dd29-4d25-8dc0-7176bb1c617e"
      },
      "outputs": [
        {
          "output_type": "stream",
          "name": "stdout",
          "text": [
            "Downloading data from https://storage.googleapis.com/tensorflow/tf-keras-datasets/imdb.npz\n",
            "\u001b[1m17464789/17464789\u001b[0m \u001b[32m━━━━━━━━━━━━━━━━━━━━\u001b[0m\u001b[37m\u001b[0m \u001b[1m0s\u001b[0m 0us/step\n"
          ]
        }
      ],
      "source": [
        "# num_words=10000 means you'll only keep the top 10,000 most frequently occurring words in the training data\n",
        "# discarding rare words allows us to work with vectors of manageable size\n",
        "# if we didnt set this limit, we'd be working with 88,585 unique words\n",
        "# rare words only occur in a few examples, and thus can't be meaningfully used for classification\n",
        "\n",
        "\n",
        "from tensorflow.keras.datasets import imdb\n",
        "(train_data, train_labels), (test_data, test_labels) = imdb.load_data(\n",
        "    num_words=10000)"
      ]
    },
    {
      "cell_type": "code",
      "source": [
        "# Training and test data format\n",
        "\n",
        "# variables train_data and test_data are lists of reviews\n",
        "# each review is a list of word indices (encoding a sequence of words)\n",
        "# train_labels and test_labels are lists of 0s and 1s, where 0 stands for negative and 1 stands for positive"
      ],
      "metadata": {
        "id": "9nMvaOUgoEHb"
      },
      "execution_count": null,
      "outputs": []
    },
    {
      "cell_type": "code",
      "source": [
        "print(f\"first training example has {len(train_data[0])} integer-encoded words\")\n",
        "print(f\"in the first example, the first ten feature values are: {train_data[0][:10]}\")"
      ],
      "metadata": {
        "colab": {
          "base_uri": "https://localhost:8080/"
        },
        "id": "TUaKe7OBoG78",
        "outputId": "0b992da5-4b43-4f52-b651-0f4ced8fde90"
      },
      "execution_count": 2,
      "outputs": [
        {
          "output_type": "stream",
          "name": "stdout",
          "text": [
            "first training example has 218 integer-encoded words\n",
            "in the first example, the first ten feature values are: [1, 14, 22, 16, 43, 530, 973, 1622, 1385, 65]\n"
          ]
        }
      ]
    },
    {
      "cell_type": "code",
      "source": [
        "train_labels[0] # first review has label 1, i.e., it is positive"
      ],
      "metadata": {
        "colab": {
          "base_uri": "https://localhost:8080/"
        },
        "id": "3nD04iNboKBD",
        "outputId": "dddd5b10-6b56-4df8-adfb-9ccd6b6ae674"
      },
      "execution_count": 3,
      "outputs": [
        {
          "output_type": "execute_result",
          "data": {
            "text/plain": [
              "np.int64(1)"
            ]
          },
          "metadata": {},
          "execution_count": 3
        }
      ]
    },
    {
      "cell_type": "code",
      "source": [
        "max([max(sequence) for sequence in train_data]) # check that word encoding integers are less than 10,000"
      ],
      "metadata": {
        "colab": {
          "base_uri": "https://localhost:8080/"
        },
        "id": "74P8TFT6oNT_",
        "outputId": "2f3f6848-0189-4bc2-9fe4-09ec163b5e8a"
      },
      "execution_count": 4,
      "outputs": [
        {
          "output_type": "execute_result",
          "data": {
            "text/plain": [
              "9999"
            ]
          },
          "metadata": {},
          "execution_count": 4
        }
      ]
    },
    {
      "cell_type": "code",
      "source": [
        "# Decoding reviews back to text\n",
        "\n",
        "word_index = imdb.get_word_index()\n",
        "list(word_index.items())[:10]"
      ],
      "metadata": {
        "colab": {
          "base_uri": "https://localhost:8080/"
        },
        "id": "Tx1NHe73oSIq",
        "outputId": "d4f4d36b-2387-4b11-85ff-5dcf0c362cef"
      },
      "execution_count": 5,
      "outputs": [
        {
          "output_type": "stream",
          "name": "stdout",
          "text": [
            "Downloading data from https://storage.googleapis.com/tensorflow/tf-keras-datasets/imdb_word_index.json\n",
            "\u001b[1m1641221/1641221\u001b[0m \u001b[32m━━━━━━━━━━━━━━━━━━━━\u001b[0m\u001b[37m\u001b[0m \u001b[1m0s\u001b[0m 0us/step\n"
          ]
        },
        {
          "output_type": "execute_result",
          "data": {
            "text/plain": [
              "[('fawn', 34701),\n",
              " ('tsukino', 52006),\n",
              " ('nunnery', 52007),\n",
              " ('sonja', 16816),\n",
              " ('vani', 63951),\n",
              " ('woods', 1408),\n",
              " ('spiders', 16115),\n",
              " ('hanging', 2345),\n",
              " ('woody', 2289),\n",
              " ('trawling', 52008)]"
            ]
          },
          "metadata": {},
          "execution_count": 5
        }
      ]
    },
    {
      "cell_type": "code",
      "source": [
        "reverse_word_index = dict(\n",
        "    [(value, key) for (key, value) in word_index.items()])\n",
        "list(reverse_word_index.items())[:10]"
      ],
      "metadata": {
        "colab": {
          "base_uri": "https://localhost:8080/"
        },
        "id": "Y4qcRr0WoZl7",
        "outputId": "c8ecb455-04fc-47b8-9af4-4a2154e4d04b"
      },
      "execution_count": 6,
      "outputs": [
        {
          "output_type": "execute_result",
          "data": {
            "text/plain": [
              "[(34701, 'fawn'),\n",
              " (52006, 'tsukino'),\n",
              " (52007, 'nunnery'),\n",
              " (16816, 'sonja'),\n",
              " (63951, 'vani'),\n",
              " (1408, 'woods'),\n",
              " (16115, 'spiders'),\n",
              " (2345, 'hanging'),\n",
              " (2289, 'woody'),\n",
              " (52008, 'trawling')]"
            ]
          },
          "metadata": {},
          "execution_count": 6
        }
      ]
    },
    {
      "cell_type": "code",
      "source": [
        " # offset of 3 needed because 0, 1, and 2 are reserved indices for \"padding,\" \"start of sequence,\" and \"unknown.\"\n",
        "decoded_review = [reverse_word_index.get(i - 3, \"?\") for i in train_data[0]]\n",
        "\n",
        "print(train_data[0][:10])\n",
        "print(\" \".join(decoded_review[:10]))"
      ],
      "metadata": {
        "colab": {
          "base_uri": "https://localhost:8080/"
        },
        "id": "HUNOYjE9occW",
        "outputId": "c0897d95-588d-47ba-9a0a-4dfc66d9a2b5"
      },
      "execution_count": 7,
      "outputs": [
        {
          "output_type": "stream",
          "name": "stdout",
          "text": [
            "[1, 14, 22, 16, 43, 530, 973, 1622, 1385, 65]\n",
            "? this film was just brilliant casting location scenery story\n"
          ]
        }
      ]
    },
    {
      "cell_type": "code",
      "source": [],
      "metadata": {
        "id": "0AwA4BQSogQa"
      },
      "execution_count": null,
      "outputs": []
    },
    {
      "cell_type": "markdown",
      "metadata": {
        "id": "HXoVMjbenEmC"
      },
      "source": [
        "### Preparing the data\n",
        "\n",
        "- can't directly feed lists of integers into NN: they all have different lengths\n",
        "- need to convert lists into tensors\n",
        "- there are two ways to do that:\n",
        "  - Pad your lists so that they all have the same length, turn them into an integer tensor of shape `(samples, max_length)`, and start your model with a layer capable of handling such integer tensors (the `Embedding` layer, which we'll cover later).\n",
        "  - *Multi-hot encode* your lists to turn them into vectors of 0s and 1s. This would mean, for instance, turning the sequence `[8, 5]` into a 10,000-dimensional vector that would be all 0s except for indices 8 and 5, which would be 1s. Then you could use a `Dense` layer, capable of handling floating-point vector data, as the first layer in your model.\n",
        "\n",
        "Let’s go with the latter solution."
      ]
    },
    {
      "cell_type": "code",
      "source": [
        "# Encoding the integer sequences via multi-hot encoding\n",
        "len(train_data)\n",
        "\n",
        "import numpy as np\n",
        "def vectorize_sequences(sequences, dimension=10000):\n",
        "    results = np.zeros((len(sequences), dimension)) # initialize results to an np.array with appropriate size\n",
        "    for i, sequence in enumerate(sequences):\n",
        "        for j in sequence:\n",
        "            results[i, j] = 1. # if word with index j found in sequence then set jth entry to 1 in multi-hot encoding\n",
        "    return results\n",
        "x_train = vectorize_sequences(train_data) # convert training data\n",
        "x_test = vectorize_sequences(test_data)   # convert test data"
      ],
      "metadata": {
        "id": "IdnpY1rGo5-1"
      },
      "execution_count": 8,
      "outputs": []
    },
    {
      "cell_type": "code",
      "source": [
        "x_train.shape"
      ],
      "metadata": {
        "colab": {
          "base_uri": "https://localhost:8080/"
        },
        "id": "hVf8-ajWpAAT",
        "outputId": "deaa9abd-e507-4220-d6da-b5fbd12cc062"
      },
      "execution_count": 9,
      "outputs": [
        {
          "output_type": "execute_result",
          "data": {
            "text/plain": [
              "(25000, 10000)"
            ]
          },
          "metadata": {},
          "execution_count": 9
        }
      ]
    },
    {
      "cell_type": "code",
      "source": [
        "x_test.shape"
      ],
      "metadata": {
        "colab": {
          "base_uri": "https://localhost:8080/"
        },
        "id": "yjXm6YrtpGbX",
        "outputId": "6a1ed23e-7433-4826-a1dc-ffa8e4a42712"
      },
      "execution_count": 10,
      "outputs": [
        {
          "output_type": "execute_result",
          "data": {
            "text/plain": [
              "(25000, 10000)"
            ]
          },
          "metadata": {},
          "execution_count": 10
        }
      ]
    },
    {
      "cell_type": "code",
      "source": [
        "example = np.array(train_data[0]) # list to np.array\n",
        "np.unique(example[example < 10]) # which words with index < 10 occur in this example?"
      ],
      "metadata": {
        "colab": {
          "base_uri": "https://localhost:8080/"
        },
        "id": "sPfQysa4pHbO",
        "outputId": "063ddb4a-fb57-4b9e-d382-bb8f400c9b63"
      },
      "execution_count": 11,
      "outputs": [
        {
          "output_type": "execute_result",
          "data": {
            "text/plain": [
              "array([1, 2, 4, 5, 6, 7, 8, 9])"
            ]
          },
          "metadata": {},
          "execution_count": 11
        }
      ]
    },
    {
      "cell_type": "code",
      "source": [
        "x_train[0][:10] # the words that occur determine where we place ones in the multi-hot encoding"
      ],
      "metadata": {
        "colab": {
          "base_uri": "https://localhost:8080/"
        },
        "id": "VJMVevlCpKIm",
        "outputId": "414016de-260e-4441-f253-f806b14e800e"
      },
      "execution_count": 12,
      "outputs": [
        {
          "output_type": "execute_result",
          "data": {
            "text/plain": [
              "array([0., 1., 1., 0., 1., 1., 1., 1., 1., 1.])"
            ]
          },
          "metadata": {},
          "execution_count": 12
        }
      ]
    },
    {
      "cell_type": "code",
      "source": [
        "y_train = np.array(train_labels).astype(\"float32\")\n",
        "y_test = np.array(test_labels).astype(\"float32\")"
      ],
      "metadata": {
        "id": "9PRtnZMppMuG"
      },
      "execution_count": 13,
      "outputs": []
    },
    {
      "cell_type": "markdown",
      "metadata": {
        "id": "A64MSYa7nEmD"
      },
      "source": [
        "### Building your model\n",
        "\n",
        "- we will use a plain stack of densely connected (`Dense`) layers with `relu` activations\n",
        "- two key architecture decisions to be made:\n",
        "  - how many layers to use\n",
        "  - how many units to choose for each layer\n",
        "  \n",
        "Later you'll learn formal principles to guide you in making these choices. For the time being, you'll have to trust the following architecture choices:\n",
        "- two intermediate layers with 16 units each\n",
        "- a third layer that will output the scalar prediction\n",
        "\n",
        "This is what the model looks like.\n",
        "\n",
        "<img src=\"https://github.com/ambujtewari/stats315-winter2022/raw/main/images/IMDB_3_layers.png\" alt=\"picture\" height=\"300\">\n",
        "\n",
        "And note the similarity to the MNIST example you saw previously."
      ]
    },
    {
      "cell_type": "markdown",
      "metadata": {
        "id": "4PAEeV4RnEmE"
      },
      "source": [
        "**Model definition**\n",
        "\n",
        "- first argument being passed to each `Dense` layer is the number of units in the layer\n",
        "- that's the dimensionality of representation space of the layer\n",
        "- such a `Dense` layer with a `relu` activation implements the following chain of tensor operations:\n",
        "```\n",
        "output = relu(dot(input, W) + b)\n",
        "```\n",
        "- 16 units means the weight matrix `W` will have shape `(input_dimension, 16)`\n",
        "- the dot (matrix) product with `W` will project the input data onto a 16-dimensional representation space\n",
        "- Then the layer adds the bias vector `b` and applies the `relu` operation\n",
        "- dimensionality of representation = \"how much freedom you're allowing the model to have when learning internal representations\"\n",
        "- more units (a higher-dimensional representation space) means:\n",
        "  - your model can learn more-complex representations\n",
        "  - but it makes the model more computationally expensive and may lead to learning unwanted patterns (which can lead to overfitting)\n"
      ]
    },
    {
      "cell_type": "code",
      "source": [
        "from tensorflow import keras\n",
        "from tensorflow.keras import layers\n",
        "\n",
        "model = keras.Sequential([\n",
        "    layers.Dense(16, activation=\"relu\"),\n",
        "    layers.Dense(16, activation=\"relu\"),\n",
        "    layers.Dense(1, activation=\"sigmoid\")\n",
        "])"
      ],
      "metadata": {
        "id": "4j9iaqVCpo6S"
      },
      "execution_count": 14,
      "outputs": []
    },
    {
      "cell_type": "code",
      "source": [
        "model.compile(optimizer=\"rmsprop\",         # good default choice for optimizer\n",
        "              loss=\"binary_crossentropy\",  # since our model outputs probabilities, cross entropy is a good choice\n",
        "              metrics=[\"accuracy\"])"
      ],
      "metadata": {
        "id": "KyTlRrOqppdH"
      },
      "execution_count": 15,
      "outputs": []
    },
    {
      "cell_type": "markdown",
      "metadata": {
        "id": "8mg7O29TnEmF"
      },
      "source": [
        "### Validating your approach\n",
        "\n",
        "- a deep learning model (or any ML model) should never be evaluated on its training data\n",
        "- it’s standard practice to use a validation set to monitor the accuracy of the model during training\n",
        "- we’ll create a validation set by setting apart 10,000 samples from the original training data"
      ]
    },
    {
      "cell_type": "code",
      "source": [
        "x_val = x_train[:10000]\n",
        "partial_x_train = x_train[10000:]\n",
        "y_val = y_train[:10000]\n",
        "partial_y_train = y_train[10000:]"
      ],
      "metadata": {
        "id": "vzQZ_Ijip2iS"
      },
      "execution_count": 16,
      "outputs": []
    },
    {
      "cell_type": "markdown",
      "source": [
        "- we will now train the model for 15 epochs\n",
        "- that's 15 iterations over all samples in the training data\n",
        "- we will use mini-batches of 512 samples\n",
        "- we will monitor loss and accuracy on the 10,000 samples that we set apart\n",
        "- we do so by passing the validation data as the `validation_data` argument"
      ],
      "metadata": {
        "id": "XtWqsHQ_radN"
      }
    },
    {
      "cell_type": "code",
      "source": [
        "history = model.fit(partial_x_train,\n",
        "                    partial_y_train,\n",
        "                    epochs=15,\n",
        "                    batch_size=512,\n",
        "                    validation_data=(x_val, y_val))"
      ],
      "metadata": {
        "colab": {
          "base_uri": "https://localhost:8080/"
        },
        "id": "PG5g24XDp9k7",
        "outputId": "2f1f7574-33f2-4598-96e3-1f63f0aa4fc9"
      },
      "execution_count": 17,
      "outputs": [
        {
          "output_type": "stream",
          "name": "stdout",
          "text": [
            "Epoch 1/15\n",
            "\u001b[1m30/30\u001b[0m \u001b[32m━━━━━━━━━━━━━━━━━━━━\u001b[0m\u001b[37m\u001b[0m \u001b[1m8s\u001b[0m 216ms/step - accuracy: 0.6804 - loss: 0.6134 - val_accuracy: 0.8389 - val_loss: 0.4286\n",
            "Epoch 2/15\n",
            "\u001b[1m30/30\u001b[0m \u001b[32m━━━━━━━━━━━━━━━━━━━━\u001b[0m\u001b[37m\u001b[0m \u001b[1m5s\u001b[0m 43ms/step - accuracy: 0.8890 - loss: 0.3565 - val_accuracy: 0.8711 - val_loss: 0.3382\n",
            "Epoch 3/15\n",
            "\u001b[1m30/30\u001b[0m \u001b[32m━━━━━━━━━━━━━━━━━━━━\u001b[0m\u001b[37m\u001b[0m \u001b[1m3s\u001b[0m 66ms/step - accuracy: 0.9138 - loss: 0.2663 - val_accuracy: 0.8894 - val_loss: 0.2857\n",
            "Epoch 4/15\n",
            "\u001b[1m30/30\u001b[0m \u001b[32m━━━━━━━━━━━━━━━━━━━━\u001b[0m\u001b[37m\u001b[0m \u001b[1m1s\u001b[0m 37ms/step - accuracy: 0.9362 - loss: 0.2046 - val_accuracy: 0.8862 - val_loss: 0.2872\n",
            "Epoch 5/15\n",
            "\u001b[1m30/30\u001b[0m \u001b[32m━━━━━━━━━━━━━━━━━━━━\u001b[0m\u001b[37m\u001b[0m \u001b[1m2s\u001b[0m 62ms/step - accuracy: 0.9446 - loss: 0.1719 - val_accuracy: 0.8852 - val_loss: 0.2867\n",
            "Epoch 6/15\n",
            "\u001b[1m30/30\u001b[0m \u001b[32m━━━━━━━━━━━━━━━━━━━━\u001b[0m\u001b[37m\u001b[0m \u001b[1m2s\u001b[0m 36ms/step - accuracy: 0.9503 - loss: 0.1490 - val_accuracy: 0.8862 - val_loss: 0.2847\n",
            "Epoch 7/15\n",
            "\u001b[1m30/30\u001b[0m \u001b[32m━━━━━━━━━━━━━━━━━━━━\u001b[0m\u001b[37m\u001b[0m \u001b[1m1s\u001b[0m 36ms/step - accuracy: 0.9610 - loss: 0.1250 - val_accuracy: 0.8834 - val_loss: 0.2918\n",
            "Epoch 8/15\n",
            "\u001b[1m30/30\u001b[0m \u001b[32m━━━━━━━━━━━━━━━━━━━━\u001b[0m\u001b[37m\u001b[0m \u001b[1m1s\u001b[0m 35ms/step - accuracy: 0.9710 - loss: 0.1041 - val_accuracy: 0.8797 - val_loss: 0.3141\n",
            "Epoch 9/15\n",
            "\u001b[1m30/30\u001b[0m \u001b[32m━━━━━━━━━━━━━━━━━━━━\u001b[0m\u001b[37m\u001b[0m \u001b[1m1s\u001b[0m 36ms/step - accuracy: 0.9707 - loss: 0.0974 - val_accuracy: 0.8814 - val_loss: 0.3355\n",
            "Epoch 10/15\n",
            "\u001b[1m30/30\u001b[0m \u001b[32m━━━━━━━━━━━━━━━━━━━━\u001b[0m\u001b[37m\u001b[0m \u001b[1m1s\u001b[0m 35ms/step - accuracy: 0.9816 - loss: 0.0754 - val_accuracy: 0.8722 - val_loss: 0.3580\n",
            "Epoch 11/15\n",
            "\u001b[1m30/30\u001b[0m \u001b[32m━━━━━━━━━━━━━━━━━━━━\u001b[0m\u001b[37m\u001b[0m \u001b[1m1s\u001b[0m 34ms/step - accuracy: 0.9825 - loss: 0.0703 - val_accuracy: 0.8781 - val_loss: 0.3541\n",
            "Epoch 12/15\n",
            "\u001b[1m30/30\u001b[0m \u001b[32m━━━━━━━━━━━━━━━━━━━━\u001b[0m\u001b[37m\u001b[0m \u001b[1m1s\u001b[0m 33ms/step - accuracy: 0.9877 - loss: 0.0563 - val_accuracy: 0.8787 - val_loss: 0.3827\n",
            "Epoch 13/15\n",
            "\u001b[1m30/30\u001b[0m \u001b[32m━━━━━━━━━━━━━━━━━━━━\u001b[0m\u001b[37m\u001b[0m \u001b[1m1s\u001b[0m 35ms/step - accuracy: 0.9882 - loss: 0.0519 - val_accuracy: 0.8763 - val_loss: 0.3887\n",
            "Epoch 14/15\n",
            "\u001b[1m30/30\u001b[0m \u001b[32m━━━━━━━━━━━━━━━━━━━━\u001b[0m\u001b[37m\u001b[0m \u001b[1m2s\u001b[0m 47ms/step - accuracy: 0.9923 - loss: 0.0410 - val_accuracy: 0.8701 - val_loss: 0.4225\n",
            "Epoch 15/15\n",
            "\u001b[1m30/30\u001b[0m \u001b[32m━━━━━━━━━━━━━━━━━━━━\u001b[0m\u001b[37m\u001b[0m \u001b[1m2s\u001b[0m 55ms/step - accuracy: 0.9932 - loss: 0.0372 - val_accuracy: 0.8750 - val_loss: 0.4318\n"
          ]
        }
      ]
    },
    {
      "cell_type": "code",
      "source": [
        "model.summary()"
      ],
      "metadata": {
        "id": "v9IQQahzp-gi"
      },
      "execution_count": null,
      "outputs": []
    },
    {
      "cell_type": "code",
      "source": [
        "history_dict = history.history\n",
        "history_dict.keys()"
      ],
      "metadata": {
        "colab": {
          "base_uri": "https://localhost:8080/"
        },
        "id": "PGjIxUvgqHkC",
        "outputId": "bc7ccb8b-6de1-432a-9b2a-2b0fa80bc9b3"
      },
      "execution_count": 18,
      "outputs": [
        {
          "output_type": "execute_result",
          "data": {
            "text/plain": [
              "dict_keys(['accuracy', 'loss', 'val_accuracy', 'val_loss'])"
            ]
          },
          "metadata": {},
          "execution_count": 18
        }
      ]
    },
    {
      "cell_type": "code",
      "source": [
        "# Plotting the training and validation loss\n",
        "\n",
        "import matplotlib.pyplot as plt\n",
        "history_dict = history.history\n",
        "loss_values = history_dict[\"loss\"]\n",
        "val_loss_values = history_dict[\"val_loss\"]\n",
        "epochs = range(1, len(loss_values) + 1)\n",
        "plt.plot(epochs, loss_values, \"bo\", label=\"Training loss\")\n",
        "plt.plot(epochs, val_loss_values, \"b\", label=\"Validation loss\")\n",
        "plt.title(\"Training and validation loss\")\n",
        "plt.xlabel(\"Epochs\")\n",
        "plt.ylabel(\"Loss\")\n",
        "plt.legend()\n",
        "plt.show()"
      ],
      "metadata": {
        "colab": {
          "base_uri": "https://localhost:8080/",
          "height": 472
        },
        "id": "GjnZX2JhqKcd",
        "outputId": "04cde555-822d-4363-d400-da51b152f8a1"
      },
      "execution_count": 19,
      "outputs": [
        {
          "output_type": "display_data",
          "data": {
            "text/plain": [
              "<Figure size 640x480 with 1 Axes>"
            ],
            "image/png": "[encoded data removed]"
          },
          "metadata": {}
        }
      ]
    },
    {
      "cell_type": "code",
      "source": [
        "# Plotting the training and validation accuracy\n",
        "\n",
        "plt.clf()\n",
        "acc = history_dict[\"accuracy\"]\n",
        "val_acc = history_dict[\"val_accuracy\"]\n",
        "plt.plot(epochs, acc, \"bo\", label=\"Training acc\")\n",
        "plt.plot(epochs, val_acc, \"b\", label=\"Validation acc\")\n",
        "plt.title(\"Training and validation accuracy\")\n",
        "plt.xlabel(\"Epochs\")\n",
        "plt.ylabel(\"Accuracy\")\n",
        "plt.legend()\n",
        "plt.show()"
      ],
      "metadata": {
        "colab": {
          "base_uri": "https://localhost:8080/",
          "height": 472
        },
        "id": "2Z59Jxq5qNqS",
        "outputId": "c97fafa9-0060-4bc9-e2d9-753a02723ab4"
      },
      "execution_count": 20,
      "outputs": [
        {
          "output_type": "display_data",
          "data": {
            "text/plain": [
              "<Figure size 640x480 with 1 Axes>"
            ],
            "image/png": "[encoded data removed]"
          },
          "metadata": {}
        }
      ]
    },
    {
      "cell_type": "code",
      "source": [],
      "metadata": {
        "id": "GuLGmpn7qV0S"
      },
      "execution_count": null,
      "outputs": []
    }
  ]
}